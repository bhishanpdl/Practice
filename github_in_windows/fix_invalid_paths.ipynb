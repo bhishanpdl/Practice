{
 "cells": [
  {
   "cell_type": "code",
   "execution_count": 1,
   "id": "0916aa3b-1471-46ee-88e2-479c8dd4b8df",
   "metadata": {},
   "outputs": [
    {
     "name": "stdout",
     "output_type": "stream",
     "text": [
      "/c/Users/Sumedha/github/Entertainment\n"
     ]
    }
   ],
   "source": [
    "!pwd"
   ]
  },
  {
   "cell_type": "code",
   "execution_count": 2,
   "id": "11e3eff1-e35b-43ae-abd2-575c5a5c962c",
   "metadata": {},
   "outputs": [
    {
     "name": "stdout",
     "output_type": "stream",
     "text": [
      "Untitled.ipynb\n"
     ]
    }
   ],
   "source": [
    "!ls"
   ]
  },
  {
   "cell_type": "code",
   "execution_count": 3,
   "id": "a6084972-766a-4dcb-9beb-f9980939f443",
   "metadata": {},
   "outputs": [
    {
     "name": "stdout",
     "output_type": "stream",
     "text": [
      "Invalid files have been written to invalid_files.txt.\n"
     ]
    }
   ],
   "source": [
    "import subprocess\n",
    "import re\n",
    "\n",
    "# List of invalid characters for Windows file names\n",
    "invalid_chars = re.compile(r'[\\|\\?\\*\\:\"]')\n",
    "\n",
    "def check_invalid_chars():\n",
    "    # Run git ls-tree and capture the output\n",
    "    result = subprocess.run(['git', 'ls-tree', '-r', 'HEAD', '--name-only'], capture_output=True, text=True)\n",
    "    files = result.stdout.splitlines()\n",
    "    \n",
    "    # Filter files with invalid characters\n",
    "    invalid_files = [file for file in files if invalid_chars.search(file)]\n",
    "    \n",
    "    return invalid_files\n",
    "\n",
    "# Run the check and get the invalid files\n",
    "invalid_files = check_invalid_chars()\n",
    "\n",
    "# Write the invalid files to a file\n",
    "with open('invalid_files.txt', 'w') as f:\n",
    "    if invalid_files:\n",
    "        f.write(\"Files with invalid characters in their paths:\\n\")\n",
    "        for file in invalid_files:\n",
    "            f.write(f\"{file}\\n\")\n",
    "    else:\n",
    "        f.write(\"No files with invalid characters found.\\n\")\n",
    "\n",
    "print(\"Invalid files have been written to invalid_files.txt.\")\n"
   ]
  },
  {
   "cell_type": "code",
   "execution_count": 5,
   "id": "1c7c55b1-be38-4cff-95a0-2dc722711efb",
   "metadata": {},
   "outputs": [
    {
     "name": "stdout",
     "output_type": "stream",
     "text": [
      "Files with invalid characters in their paths:\n",
      "\"wordle/Resources/Data_Science/Model_Interpretation/Model_Evaluation/6 More Evaluation Metrics Data Scientists Should Be Familiar with \\342\\200\\224 Lessons from A High-rank Kagglers\\342\\200\\231 New Book.pdf\"\n",
      "wordle/Resources/Data_Science/a00_ML_Algorithms/Algorithm_Selection/Which Machine Learning Algorithm To Choose For My Problem? | SAP Conversational AI Blog.html\n",
      "\"wordle/Resources/Data_Science/a00_ML_Algorithms/Classification/Imbalanced_Classification/books/Learning from Imbalanced Data Sets-Springer International Publishing (2018 Alberto Fern\\303\\241ndez, Salvador Garc\\303\\255a, Mikel Galar, Ronaldo C. Prati, Bartosz Krawczyk, Francisco Herrera ).pdf\"\n",
      "\"wordle/Resources/Data_Science/a00_ML_Algorithms/Clustering_kMeans/2.3. Clustering \\342\\200\\224 scikit-learn 0.24.2 documentation.pdf\"\n",
      "\"wordle/Resources/Data_Science/a00_ML_Algorithms/Decision_Tree/pdf/Post pruning decision trees with cost complexity pruning \\342\\200\\224 scikit learn 0 24 1 documentation.pdf\"\n",
      "\"wordle/Resources/Data_Science/a00_ML_Algorithms/Dimension_Reduction/sklearn decomposition PCA \\342\\200\\224 scikit learn 0 24 2 documentation.pdf\"\n",
      "\"wordle/Resources/Data_Science/a00_ML_Algorithms/Dimension_Reduction/sklearn discriminant_analysis LinearDiscriminantAnalysis \\342\\200\\224 scikit learn 0 24 2 documentation.pdf\"\n",
      "\"wordle/Resources/Data_Science/a00_ML_Algorithms/Dimension_Reduction/sklearn manifold TSNE \\342\\200\\224 scikit learn 0 24 2 documentation.pdf\"\n",
      "\"wordle/Resources/Data_Science/a00_ML_Algorithms/Dimension_Reduction/t SNE \\342\\200\\223 Laurens van der Maaten.pdf\"\n",
      "wordle/Resources/Data_Science/a00_ML_Algorithms/Ensembling_Blending_Stacking/Ensembling/Kaggle Ensembling Guide | MLWave.pdf\n",
      "\"wordle/Resources/Data_Science/a00_ML_Algorithms/Ensembling_Blending_Stacking/html/Stacking and Blending \\342\\200\\224 An Intuitive Explanation   by Steven Yu   Medium.pdf\"\n",
      "wordle/Resources/Data_Science/a00_ML_Algorithms/Logistic_Regression/pdf/A Simple Interpretation of Logistic Regression Coefficients | by Dina Jankovic | Towards Data Science.pdf\n",
      "\"wordle/Resources/Data_Science/a00_ML_Algorithms/Logistic_Regression/pdf/Interpret Logistic Regression Coefficients [For Beginners] \\342\\200\\223 Quantifying Health.pdf\"\n",
      "\"wordle/Resources/Data_Science/a00_ML_Algorithms/PCA/html/Principal Component Regression vs Partial Least Squares Regression \\342\\200\\224 scikit-learn 0.24.1 documentati.html\"\n",
      "wordle/Resources/Data_Science/a00_ML_Algorithms/PCA/html/correlation - Should one remove highly correlated variables before doing PCA? - Cross Validated.html\n",
      "\"wordle/Resources/Data_Science/a00_ML_Algorithms/PCA/pdf/A Complete Guide to Principal Component Analysis \\342\\200\\224 PCA in Machine Learning _ by Ashutosh Tripathi _ Towards Data Science.pdf\"\n",
      "wordle/Resources/Data_Science/a00_ML_Algorithms/XGBoost/html/XGBoost Parameters | XGBoost Parameter Tuning.html\n",
      "\"wordle/Resources/Data_Science/a00_ML_Algorithms/XGBoost/html/XGBoost Parameters \\342\\200\\224 xgboost 1.4.0-SNAPSHOT documentation.html\"\n",
      "\"wordle/Resources/Data_Science/a00_ML_Algorithms/kNN_kMeans/html/1 6  Nearest Neighbors \\342\\200\\224 scikit learn 0 24 1 documentation.pdf\"\n",
      "\"wordle/Resources/Data_Science/a00_ML_Algorithms/kNN_kMeans/html/1.6. Nearest Neighbors \\342\\200\\224 scikit-learn 0.24.1 documentation.html\"\n",
      "wordle/Resources/Data_Science/a00_ML_Algorithms/kNN_kMeans/html/10 Reasons for loving Nearest Neighbors algorithm | Quantdare.html\n",
      "\"wordle/Resources/Data_Science/a00_ML_Algorithms/kNN_kMeans/html/Elbow Method \\342\\200\\224 Yellowbrick v1 3 post1 documentation.pdf\"\n",
      "\"wordle/Resources/Data_Science/a00_ML_Algorithms/kNN_kMeans/html/Elbow Method \\342\\200\\224 Yellowbrick v1.3.post1 documentation.html\"\n",
      "\"wordle/Resources/Data_Science/a00_ML_Algorithms/zz_pdf/An executive\\342\\200\\231s guide to AI.pdf\"\n"
     ]
    }
   ],
   "source": [
    "!cat invalid_files.txt"
   ]
  },
  {
   "cell_type": "code",
   "execution_count": null,
   "id": "fb75db20-dca2-4a14-ac06-cc106a5c2011",
   "metadata": {},
   "outputs": [],
   "source": []
  }
 ],
 "metadata": {
  "kernelspec": {
   "display_name": "Python 3 (ipykernel)",
   "language": "python",
   "name": "python3"
  },
  "language_info": {
   "codemirror_mode": {
    "name": "ipython",
    "version": 3
   },
   "file_extension": ".py",
   "mimetype": "text/x-python",
   "name": "python",
   "nbconvert_exporter": "python",
   "pygments_lexer": "ipython3",
   "version": "3.13.0"
  }
 },
 "nbformat": 4,
 "nbformat_minor": 5
}
